{
 "cells": [
  {
   "cell_type": "markdown",
   "metadata": {},
   "source": [
    "# Estimate sample phases using ML\n",
    "- "
   ]
  },
  {
   "cell_type": "code",
   "execution_count": 1,
   "metadata": {},
   "outputs": [],
   "source": [
    "%matplotlib inline\n",
    "import numpy as np\n",
    "from matplotlib import pyplot as plt"
   ]
  },
  {
   "cell_type": "code",
   "execution_count": 2,
   "metadata": {},
   "outputs": [],
   "source": [
    "import itk\n",
    "import itkwidgets\n",
    "from itkwidgets import view, compare"
   ]
  },
  {
   "cell_type": "code",
   "execution_count": 6,
   "metadata": {},
   "outputs": [
    {
     "name": "stdout",
     "output_type": "stream",
     "text": [
      "itkSize3 ([2560, 2560, 11])\n",
      "itkVectorD3 ([1, 1, 1])\n"
     ]
    }
   ],
   "source": [
    "from glob import glob\n",
    "slices = glob('../images/concrete/*.tiff')\n",
    "slices.sort()\n",
    "concrete = itk.imread(slices)\n",
    "print(itk.size(concrete))\n",
    "print(itk.spacing(concrete))"
   ]
  },
  {
   "cell_type": "code",
   "execution_count": 7,
   "metadata": {},
   "outputs": [],
   "source": [
    "new_spacing = [1, 1, 2] #change slice thickness\n",
    "concrete.SetSpacing(new_spacing)"
   ]
  },
  {
   "cell_type": "code",
   "execution_count": 8,
   "metadata": {},
   "outputs": [
    {
     "data": {
      "application/vnd.jupyter.widget-view+json": {
       "model_id": "5e90571541704bf0beb30d72cfb5d2d6",
       "version_major": 2,
       "version_minor": 0
      },
      "text/plain": [
       "Viewer(geometries=[], gradient_opacity=0.22, mode='z', point_sets=[], rendered_image=<itkImagePython.itkImageF…"
      ]
     },
     "metadata": {},
     "output_type": "display_data"
    }
   ],
   "source": [
    "myViewer = view(concrete, mode='z') #slicing over z\n",
    "myViewer\n"
   ]
  },
  {
   "cell_type": "code",
   "execution_count": 19,
   "metadata": {},
   "outputs": [
    {
     "data": {
      "text/plain": [
       "itkImageRegion3([436, 469, 0], [1646, 1766, 11])"
      ]
     },
     "execution_count": 19,
     "metadata": {},
     "output_type": "execute_result"
    }
   ],
   "source": [
    "#These are the coordinates of your crop\n",
    "myViewer.roi_region()\n"
   ]
  },
  {
   "cell_type": "code",
   "execution_count": 28,
   "metadata": {},
   "outputs": [
    {
     "data": {
      "application/vnd.jupyter.widget-view+json": {
       "model_id": "a89fc0889f1849229cf80dd2ff254c83",
       "version_major": 2,
       "version_minor": 0
      },
      "text/plain": [
       "Viewer(annotations=False, geometries=[], gradient_opacity=0.22, point_sets=[], rendered_image=<itkImagePython.…"
      ]
     },
     "metadata": {},
     "output_type": "display_data"
    }
   ],
   "source": [
    "# User-selection is input for slicing np array\n",
    "np_concrete = itk.array_from_image(concrete) \n",
    "roi = myViewer.roi_slice()\n",
    "np_coreSample = np_concrete[roi]\n",
    "view(np_coreSample, annotations=False, ui_collapsed=True)"
   ]
  },
  {
   "cell_type": "code",
   "execution_count": 30,
   "metadata": {},
   "outputs": [
    {
     "ename": "ValueError",
     "evalue": "Array memory is not contiguous. Try converting your array with `ascontiguousarray()` or `copy()` or use `GetImageFromArray()`",
     "output_type": "error",
     "traceback": [
      "\u001b[0;31m---------------------------------------------------------------------------\u001b[0m",
      "\u001b[0;31mValueError\u001b[0m                                Traceback (most recent call last)",
      "\u001b[0;32m<ipython-input-30-6b60463e37a6>\u001b[0m in \u001b[0;36m<module>\u001b[0;34m\u001b[0m\n\u001b[1;32m      1\u001b[0m \u001b[0;31m#Big files\u001b[0m\u001b[0;34m\u001b[0m\u001b[0;34m\u001b[0m\u001b[0;34m\u001b[0m\u001b[0m\n\u001b[0;32m----> 2\u001b[0;31m \u001b[0mcoreSample\u001b[0m \u001b[0;34m=\u001b[0m \u001b[0mitk\u001b[0m\u001b[0;34m.\u001b[0m\u001b[0mGetImageFromArray\u001b[0m\u001b[0;34m(\u001b[0m\u001b[0mnp_coreSample\u001b[0m\u001b[0;34m)\u001b[0m\u001b[0;34m\u001b[0m\u001b[0;34m\u001b[0m\u001b[0m\n\u001b[0m\u001b[1;32m      3\u001b[0m \u001b[0mconcrete\u001b[0m \u001b[0;34m=\u001b[0m \u001b[0mitk\u001b[0m\u001b[0;34m.\u001b[0m\u001b[0mmedian_image_filter\u001b[0m\u001b[0;34m(\u001b[0m\u001b[0mcoreSample\u001b[0m\u001b[0;34m)\u001b[0m\u001b[0;34m\u001b[0m\u001b[0;34m\u001b[0m\u001b[0m\n",
      "\u001b[0;32m~/anaconda3/envs/imagexd19/lib/python3.7/site-packages/itkExtras.py\u001b[0m in \u001b[0;36mGetImageFromArray\u001b[0;34m(arr, is_vector)\u001b[0m\n\u001b[1;32m    295\u001b[0m     \"\"\"Get an ITK image from a Python array.\n\u001b[1;32m    296\u001b[0m     \"\"\"\n\u001b[0;32m--> 297\u001b[0;31m     \u001b[0;32mreturn\u001b[0m \u001b[0m_GetImageFromArray\u001b[0m\u001b[0;34m(\u001b[0m\u001b[0marr\u001b[0m\u001b[0;34m,\u001b[0m \u001b[0;34m\"GetImageFromArray\"\u001b[0m\u001b[0;34m,\u001b[0m \u001b[0mis_vector\u001b[0m\u001b[0;34m)\u001b[0m\u001b[0;34m\u001b[0m\u001b[0;34m\u001b[0m\u001b[0m\n\u001b[0m\u001b[1;32m    298\u001b[0m \u001b[0;34m\u001b[0m\u001b[0m\n\u001b[1;32m    299\u001b[0m \u001b[0mimage_from_array\u001b[0m \u001b[0;34m=\u001b[0m \u001b[0mGetImageFromArray\u001b[0m\u001b[0;34m\u001b[0m\u001b[0;34m\u001b[0m\u001b[0m\n",
      "\u001b[0;32m~/anaconda3/envs/imagexd19/lib/python3.7/site-packages/itkExtras.py\u001b[0m in \u001b[0;36m_GetImageFromArray\u001b[0;34m(arr, function, is_vector)\u001b[0m\n\u001b[1;32m    290\u001b[0m         \u001b[0mImageType\u001b[0m \u001b[0;34m=\u001b[0m \u001b[0mitk\u001b[0m\u001b[0;34m.\u001b[0m\u001b[0mImage\u001b[0m\u001b[0;34m[\u001b[0m\u001b[0mPixelType\u001b[0m\u001b[0;34m,\u001b[0m \u001b[0mDimension\u001b[0m\u001b[0;34m]\u001b[0m\u001b[0;34m\u001b[0m\u001b[0;34m\u001b[0m\u001b[0m\n\u001b[1;32m    291\u001b[0m     \u001b[0mtemplatedFunction\u001b[0m \u001b[0;34m=\u001b[0m \u001b[0mgetattr\u001b[0m\u001b[0;34m(\u001b[0m\u001b[0mitk\u001b[0m\u001b[0;34m.\u001b[0m\u001b[0mPyBuffer\u001b[0m\u001b[0;34m[\u001b[0m\u001b[0mImageType\u001b[0m\u001b[0;34m]\u001b[0m\u001b[0;34m,\u001b[0m \u001b[0mfunction\u001b[0m\u001b[0;34m)\u001b[0m\u001b[0;34m\u001b[0m\u001b[0;34m\u001b[0m\u001b[0m\n\u001b[0;32m--> 292\u001b[0;31m     \u001b[0;32mreturn\u001b[0m \u001b[0mtemplatedFunction\u001b[0m\u001b[0;34m(\u001b[0m\u001b[0marr\u001b[0m\u001b[0;34m,\u001b[0m \u001b[0mis_vector\u001b[0m\u001b[0;34m)\u001b[0m\u001b[0;34m\u001b[0m\u001b[0;34m\u001b[0m\u001b[0m\n\u001b[0m\u001b[1;32m    293\u001b[0m \u001b[0;34m\u001b[0m\u001b[0m\n\u001b[1;32m    294\u001b[0m \u001b[0;32mdef\u001b[0m \u001b[0mGetImageFromArray\u001b[0m\u001b[0;34m(\u001b[0m\u001b[0marr\u001b[0m\u001b[0;34m,\u001b[0m \u001b[0mis_vector\u001b[0m\u001b[0;34m=\u001b[0m\u001b[0;32mFalse\u001b[0m\u001b[0;34m)\u001b[0m\u001b[0;34m:\u001b[0m\u001b[0;34m\u001b[0m\u001b[0;34m\u001b[0m\u001b[0m\n",
      "\u001b[0;32m~/anaconda3/envs/imagexd19/lib/python3.7/site-packages/itk/Configuration/../itkPyBufferPython.py\u001b[0m in \u001b[0;36mGetImageFromArray\u001b[0;34m(ndarr, is_vector)\u001b[0m\n\u001b[1;32m   2110\u001b[0m \u001b[0;34m\u001b[0m\u001b[0m\n\u001b[1;32m   2111\u001b[0m     \u001b[0;31m# Create a temporary image view of the array\u001b[0m\u001b[0;34m\u001b[0m\u001b[0;34m\u001b[0m\u001b[0;34m\u001b[0m\u001b[0m\n\u001b[0;32m-> 2112\u001b[0;31m         \u001b[0mimageView\u001b[0m \u001b[0;34m=\u001b[0m \u001b[0mitkPyBufferIF3\u001b[0m\u001b[0;34m.\u001b[0m\u001b[0mGetImageViewFromArray\u001b[0m\u001b[0;34m(\u001b[0m\u001b[0mndarr\u001b[0m\u001b[0;34m,\u001b[0m \u001b[0mis_vector\u001b[0m\u001b[0;34m)\u001b[0m\u001b[0;34m\u001b[0m\u001b[0;34m\u001b[0m\u001b[0m\n\u001b[0m\u001b[1;32m   2113\u001b[0m \u001b[0;34m\u001b[0m\u001b[0m\n\u001b[1;32m   2114\u001b[0m     \u001b[0;31m# Duplicate the image to let it manage its own memory buffer\u001b[0m\u001b[0;34m\u001b[0m\u001b[0;34m\u001b[0m\u001b[0;34m\u001b[0m\u001b[0m\n",
      "\u001b[0;32m~/anaconda3/envs/imagexd19/lib/python3.7/site-packages/itk/Configuration/../itkPyBufferPython.py\u001b[0m in \u001b[0;36mGetImageViewFromArray\u001b[0;34m(ndarr, is_vector)\u001b[0m\n\u001b[1;32m   2074\u001b[0m             \u001b[0;34m\"Only arrays of 2, 3 or 4 dimensions are supported.\"\u001b[0m\u001b[0;34m\u001b[0m\u001b[0;34m\u001b[0m\u001b[0m\n\u001b[1;32m   2075\u001b[0m         \u001b[0;32mif\u001b[0m\u001b[0;34m(\u001b[0m \u001b[0;32mnot\u001b[0m \u001b[0mndarr\u001b[0m\u001b[0;34m.\u001b[0m\u001b[0mflags\u001b[0m\u001b[0;34m[\u001b[0m\u001b[0;34m'C_CONTIGUOUS'\u001b[0m\u001b[0;34m]\u001b[0m \u001b[0;32mand\u001b[0m \u001b[0;32mnot\u001b[0m \u001b[0mndarr\u001b[0m\u001b[0;34m.\u001b[0m\u001b[0mflags\u001b[0m\u001b[0;34m[\u001b[0m\u001b[0;34m'F_CONTIGUOUS'\u001b[0m\u001b[0;34m]\u001b[0m \u001b[0;34m)\u001b[0m\u001b[0;34m:\u001b[0m\u001b[0;34m\u001b[0m\u001b[0;34m\u001b[0m\u001b[0m\n\u001b[0;32m-> 2076\u001b[0;31m             raise ValueError(\"Array memory is not contiguous. Try converting your array with \"\n\u001b[0m\u001b[1;32m   2077\u001b[0m                   + \"`ascontiguousarray()` or `copy()` or use `GetImageFromArray()`\")\n\u001b[1;32m   2078\u001b[0m \u001b[0;34m\u001b[0m\u001b[0m\n",
      "\u001b[0;31mValueError\u001b[0m: Array memory is not contiguous. Try converting your array with `ascontiguousarray()` or `copy()` or use `GetImageFromArray()`"
     ]
    }
   ],
   "source": [
    "coreSample = itk.GetImageFromArray(np_coreSample)\n",
    "concrete = itk.median_image_filter(coreSample)"
   ]
  },
  {
   "cell_type": "code",
   "execution_count": 17,
   "metadata": {},
   "outputs": [],
   "source": [
    "#Convert itk image to numpy\n",
    "np_img = itk.GetArrayFromImage(img) "
   ]
  },
  {
   "cell_type": "code",
   "execution_count": 41,
   "metadata": {},
   "outputs": [
    {
     "data": {
      "application/vnd.jupyter.widget-view+json": {
       "model_id": "af82361cce4443d5a57c5dd2638ae356",
       "version_major": 2,
       "version_minor": 0
      },
      "text/plain": [
       "Viewer(annotations=False, cmap='PRGn', geometries=[], gradient_opacity=0.22, point_sets=[], rendered_image=<it…"
      ]
     },
     "metadata": {},
     "output_type": "display_data"
    }
   ],
   "source": [
    "arr = itk.array_from_image(img)\n",
    "roi = myViewer.roi_slice()\n",
    "view(arr[roi], cmap=itkwidgets.cm.PrGn, annotations=False, ui_collapsed=True)"
   ]
  },
  {
   "cell_type": "markdown",
   "metadata": {},
   "source": [
    "## Thresholding: exploring threshold using mid slice"
   ]
  },
  {
   "cell_type": "code",
   "execution_count": 18,
   "metadata": {},
   "outputs": [
    {
     "data": {
      "application/vnd.jupyter.widget-view+json": {
       "model_id": "78b8d1a58bb84d9fa68d19522d7045e8",
       "version_major": 2,
       "version_minor": 0
      },
      "text/plain": [
       "interactive(children=(IntSlider(value=128, description='t', max=255), Output()), _dom_classes=('widget-interac…"
      ]
     },
     "metadata": {},
     "output_type": "display_data"
    }
   ],
   "source": [
    "import ipywidgets as widgets\n",
    "from IPython.display import display\n",
    "from ipywidgets import interact, interactive, fixed, interact_manual\n",
    "\n",
    "middle = 100\n",
    "aslice = np_img[:,:,middle]\n",
    "def myThresh(t=128):\n",
    "    thresholded = aslice>t\n",
    "    plt.imshow(thresholded, cmap='gray')\n",
    "    \n",
    "interact(myThresh, t=widgets.IntSlider(min=0,max=255,step=1,value=128));"
   ]
  },
  {
   "cell_type": "code",
   "execution_count": 21,
   "metadata": {},
   "outputs": [
    {
     "name": "stdout",
     "output_type": "stream",
     "text": [
      "Help on function threshold_image_filter in module itkThresholdImageFilterPython:\n",
      "\n",
      "threshold_image_filter(*args, **kwargs)\n",
      "    Set image values to a user-specified value if they are below, above,\n",
      "    or between simple threshold values.\n",
      "    \n",
      "    ThresholdImageFilter sets image values to a user-specified \"outside\"\n",
      "    value (by default, \"black\") if the image values are below, above, or\n",
      "    between simple threshold values.\n",
      "    \n",
      "    The available methods are:\n",
      "    \n",
      "    ThresholdAbove(): The values greater than the threshold value are set\n",
      "    to OutsideValue\n",
      "    \n",
      "    ThresholdBelow(): The values less than the threshold value are set to\n",
      "    OutsideValue\n",
      "    \n",
      "    ThresholdOutside(): The values outside the threshold range (less than\n",
      "    lower or greater than upper) are set to OutsideValue\n",
      "    \n",
      "    Note that these definitions indicate that pixels equal to the\n",
      "    threshold value are not set to OutsideValue in any of these methods\n",
      "    \n",
      "    The pixels must support the operators >= and <=.\n",
      "    \n",
      "    Wiki Examples:  All Examples\n",
      "    \n",
      "    https://www.itk.org/Wiki/ITK/Examples/ImageProcessing/ThresholdImageFi\n",
      "    lter Threshold an image\n",
      "    \n",
      "    C++ includes: itkThresholdImageFilter.h\n",
      "\n"
     ]
    }
   ],
   "source": [
    "help(itk.threshold_image_filter) #todo: no relevant info"
   ]
  },
  {
   "cell_type": "code",
   "execution_count": 47,
   "metadata": {},
   "outputs": [
    {
     "data": {
      "application/vnd.jupyter.widget-view+json": {
       "model_id": "8b34d3fc36b44c9f9ade7e832395d9e2",
       "version_major": 2,
       "version_minor": 0
      },
      "text/plain": [
       "AppLayout(children=(HBox(children=(Label(value='Link:'), Checkbox(value=False, description='cmap'), Checkbox(v…"
      ]
     },
     "metadata": {},
     "output_type": "display_data"
    }
   ],
   "source": [
    "img_thresh = itk.threshold_image_filter(img,) #TODO: inside_value=0,outside_value=1 don't work here\n",
    "compare(img, img_thresh, link_cmap=True)"
   ]
  },
  {
   "cell_type": "code",
   "execution_count": 43,
   "metadata": {},
   "outputs": [
    {
     "data": {
      "application/vnd.jupyter.widget-view+json": {
       "model_id": "703d5f2e692a465888e7f34c09416d58",
       "version_major": 2,
       "version_minor": 0
      },
      "text/plain": [
       "Viewer(cmap='BrBG', geometries=[], gradient_opacity=0.22, point_sets=[], rendered_image=<itkImagePython.itkIma…"
      ]
     },
     "metadata": {},
     "output_type": "display_data"
    }
   ],
   "source": [
    "img_thresh = itk.iso_data_threshold_image_filter(img,) #TODO: why this operation made data 2^15 ?\n",
    "view(img_thresh,cmap=itkwidgets.cm.BrBG)"
   ]
  },
  {
   "cell_type": "code",
   "execution_count": 30,
   "metadata": {},
   "outputs": [
    {
     "data": {
      "application/vnd.jupyter.widget-view+json": {
       "model_id": "8a42fcbfc01640988b6c4d484f11eec2",
       "version_major": 2,
       "version_minor": 0
      },
      "text/plain": [
       "AppLayout(children=(HBox(children=(Label(value='Link:'), Checkbox(value=False, description='cmap'), Checkbox(v…"
      ]
     },
     "metadata": {},
     "output_type": "display_data"
    }
   ],
   "source": [
    "compare(img,img_thresh) #todo: only second panel works"
   ]
  },
  {
   "cell_type": "code",
   "execution_count": null,
   "metadata": {},
   "outputs": [],
   "source": []
  }
 ],
 "metadata": {
  "kernelspec": {
   "display_name": "Python 3",
   "language": "python",
   "name": "python3"
  },
  "language_info": {
   "codemirror_mode": {
    "name": "ipython",
    "version": 3
   },
   "file_extension": ".py",
   "mimetype": "text/x-python",
   "name": "python",
   "nbconvert_exporter": "python",
   "pygments_lexer": "ipython3",
   "version": "3.7.3"
  },
  "toc": {
   "base_numbering": 1,
   "nav_menu": {},
   "number_sections": true,
   "sideBar": true,
   "skip_h1_title": false,
   "title_cell": "Table of Contents",
   "title_sidebar": "Contents",
   "toc_cell": false,
   "toc_position": {},
   "toc_section_display": true,
   "toc_window_display": false
  }
 },
 "nbformat": 4,
 "nbformat_minor": 4
}

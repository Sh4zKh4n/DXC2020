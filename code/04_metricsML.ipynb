{
 "cells": [
  {
   "cell_type": "markdown",
   "metadata": {},
   "source": [
    "# Metrics\n",
    "- measuring different phases\n",
    "- panda: format, save, plotting\n",
    "- clustering"
   ]
  },
  {
   "cell_type": "code",
   "execution_count": 1,
   "metadata": {},
   "outputs": [],
   "source": [
    "%matplotlib inline\n",
    "import numpy as np\n",
    "from matplotlib import pyplot as plt"
   ]
  },
  {
   "cell_type": "code",
   "execution_count": 2,
   "metadata": {},
   "outputs": [],
   "source": [
    "import itk\n",
    "import itkwidgets\n",
    "from itkwidgets import view, compare"
   ]
  },
  {
   "cell_type": "code",
   "execution_count": 3,
   "metadata": {},
   "outputs": [],
   "source": [
    "# read one phase\n",
    "img = itk.imread('/Users/dani/Documents/data/synthetic/original/segmented_bead_pack_512.tif')"
   ]
  },
  {
   "cell_type": "markdown",
   "metadata": {},
   "source": [
    "## Measuring different phases"
   ]
  },
  {
   "cell_type": "code",
   "execution_count": 6,
   "metadata": {
    "scrolled": true
   },
   "outputs": [
    {
     "data": {
      "application/vnd.jupyter.widget-view+json": {
       "model_id": "878d7d6148704db3913e53ff7eccc57a",
       "version_major": 2,
       "version_minor": 0
      },
      "text/plain": [
       "Viewer(geometries=[], gradient_opacity=0.22, mode='z', point_sets=[], rendered_image=<itk.itkImagePython.itkIm…"
      ]
     },
     "metadata": {},
     "output_type": "display_data"
    }
   ],
   "source": [
    "myViewer = view(img, mode='z') #slicing over z\n",
    "myViewer"
   ]
  },
  {
   "cell_type": "code",
   "execution_count": 28,
   "metadata": {},
   "outputs": [],
   "source": [
    "import math\n",
    "import pandas as pd\n",
    "from skimage import io\n",
    "from skimage.measure import regionprops, label\n"
   ]
  },
  {
   "cell_type": "code",
   "execution_count": 40,
   "metadata": {},
   "outputs": [],
   "source": [
    "class MyMeasurements:\n",
    "\n",
    "    def __init__(self,inputs,outputs): \n",
    "        '''Input and output paths '''\n",
    "        self.inputp = inputs #path  ????\n",
    "        self.outputp = outputs #path\n",
    "        self.img = io.imread(inputs)\n",
    "    def measurements(self,nslice=1):\n",
    "        '''Extract area and circularity from binary input'''\n",
    "        labeled = label(255-self.img[nslice,:,:])\n",
    "        regions = regionprops(labeled)\n",
    "        pixelSize = 1 #check this with Tonya/Rana\n",
    "        larea=[]\n",
    "        lcircularity=[]\n",
    "        labels = np.arange(np.max(labeled) + 1)\n",
    "        for region in regions:\n",
    "            area = float(region.area * pixelSize**2)\n",
    "            circularity = 4*math.pi*(region.area/region.perimeter**2)\n",
    "            if not (100 <= area <= 10000\n",
    "                and circularity > 0.5):\n",
    "                labels[region.label] = 0\n",
    "            else:\n",
    "                larea.append(area)\n",
    "                lcircularity.append(circularity)\n",
    "        finalMask = labels[labeled] >0       \n",
    "        sampleMetr = pd.DataFrame({\n",
    "                            'area':larea,\n",
    "                            'circularity':lcircularity\n",
    "                            })\n",
    "        return sampleMetr\n",
    "        \n",
    "    def histMeasurements(self,sampleMetr,mybin=10):\n",
    "        '''Show histogram of area and circularity'''\n",
    "        fig = plt.figure(figsize = (15,2.5))\n",
    "        ax = fig.gca()\n",
    "        sampleMetr.hist(bins=mybin,density=False,facecolor='g', alpha=0.75,ax = ax)"
   ]
  },
  {
   "cell_type": "code",
   "execution_count": 41,
   "metadata": {},
   "outputs": [],
   "source": [
    "myM = MyMeasurements('/Users/dani/Documents/data/synthetic/original/segmented_bead_pack_512.tif','/Users/dani/Documents/data/synthetic/original/')"
   ]
  },
  {
   "cell_type": "code",
   "execution_count": 42,
   "metadata": {},
   "outputs": [],
   "source": [
    "myDF = myM.measurements(nslice=10)"
   ]
  },
  {
   "cell_type": "code",
   "execution_count": 45,
   "metadata": {},
   "outputs": [
    {
     "name": "stderr",
     "output_type": "stream",
     "text": [
      "To output multiple subplots, the figure containing the passed axes is being cleared\n"
     ]
    },
    {
     "data": {
      "image/png": "[encoded data removed]",
      "text/plain": [
       "<Figure size 1080x180 with 2 Axes>"
      ]
     },
     "metadata": {
      "needs_background": "light"
     },
     "output_type": "display_data"
    }
   ],
   "source": [
    "myM.histMeasurements(myDF)"
   ]
  },
  {
   "cell_type": "code",
   "execution_count": null,
   "metadata": {},
   "outputs": [],
   "source": []
  }
 ],
 "metadata": {
  "kernelspec": {
   "display_name": "Python 3",
   "language": "python",
   "name": "python3"
  },
  "language_info": {
   "codemirror_mode": {
    "name": "ipython",
    "version": 3
   },
   "file_extension": ".py",
   "mimetype": "text/x-python",
   "name": "python",
   "nbconvert_exporter": "python",
   "pygments_lexer": "ipython3",
   "version": "3.7.7"
  },
  "toc": {
   "base_numbering": 1,
   "nav_menu": {},
   "number_sections": true,
   "sideBar": true,
   "skip_h1_title": false,
   "title_cell": "Table of Contents",
   "title_sidebar": "Contents",
   "toc_cell": false,
   "toc_position": {},
   "toc_section_display": true,
   "toc_window_display": false
  }
 },
 "nbformat": 4,
 "nbformat_minor": 4
}

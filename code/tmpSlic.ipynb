{
 "cells": [
  {
   "cell_type": "code",
   "execution_count": 11,
   "metadata": {},
   "outputs": [],
   "source": [
    "from urllib.request import urlretrieve\n",
    "import os\n",
    "import itk\n",
    "import numpy as np\n",
    "\n",
    "from itkwidgets import view\n",
    "import itkwidgets\n",
    "\n",
    "from ipywidgets import interactive, VBox"
   ]
  },
  {
   "cell_type": "code",
   "execution_count": 12,
   "metadata": {},
   "outputs": [
    {
     "name": "stdout",
     "output_type": "stream",
     "text": [
      "0.29.0\n"
     ]
    }
   ],
   "source": [
    "print(itkwidgets.__version__)"
   ]
  },
  {
   "cell_type": "markdown",
   "metadata": {},
   "source": [
    "file_name = 'cthead1.png'\n",
    "if not os.path.exists(file_name):\n",
    "    url = 'https://data.kitware.com/api/v1/file/57b5d9ef8d777f10f269538f/download'\n",
    "    urlretrieve(url, file_name)"
   ]
  },
  {
   "cell_type": "code",
   "execution_count": 7,
   "metadata": {},
   "outputs": [
    {
     "data": {
      "application/vnd.jupyter.widget-view+json": {
       "model_id": "82d402b9f1994ece96bcbf6884b44ee1",
       "version_major": 2,
       "version_minor": 0
      },
      "text/plain": [
       "Viewer(geometries=[], gradient_opacity=0.22, point_sets=[], rendered_image=<itk.itkImagePython.itkImageF3; pro…"
      ]
     },
     "metadata": {},
     "output_type": "display_data"
    }
   ],
   "source": [
    "file_name = '../images/roiFiltered.tiff'\n",
    "b = itk.imread(file_name)\n",
    "view(b)"
   ]
  },
  {
   "cell_type": "code",
   "execution_count": 5,
   "metadata": {},
   "outputs": [],
   "source": [
    "islic = itk.slic_image_filter(b)"
   ]
  },
  {
   "cell_type": "code",
   "execution_count": null,
   "metadata": {},
   "outputs": [],
   "source": []
  },
  {
   "cell_type": "code",
   "execution_count": null,
   "metadata": {},
   "outputs": [],
   "source": []
  },
  {
   "cell_type": "code",
   "execution_count": 17,
   "metadata": {},
   "outputs": [
    {
     "data": {
      "application/vnd.jupyter.widget-view+json": {
       "model_id": "ffd1a2f2c6b848a89f670696152d01e6",
       "version_major": 2,
       "version_minor": 0
      },
      "text/plain": [
       "Viewer(geometries=[], gradient_opacity=0.22, interpolation=False, point_sets=[], rendered_image=<itk.itkImageP…"
      ]
     },
     "metadata": {},
     "output_type": "display_data"
    }
   ],
   "source": [
    "# doesn't render itk.GetImageFromArray(islic)\n",
    "from skimage import img_as_ubyte\n",
    "#img_as_ubyte(islic)\n",
    "view(image=img_as_ubyte(islic), interpolation=False, ui_collapsed=True)"
   ]
  },
  {
   "cell_type": "code",
   "execution_count": 16,
   "metadata": {},
   "outputs": [
    {
     "name": "stderr",
     "output_type": "stream",
     "text": [
      "Downcasting uint64 to uint8 without scaling because max value 129 fits in uint8\n"
     ]
    }
   ],
   "source": [
    "viewer = view(image=islic, interpolation=False, ui_collapsed=True)"
   ]
  },
  {
   "cell_type": "code",
   "execution_count": 5,
   "metadata": {},
   "outputs": [
    {
     "data": {
      "application/vnd.jupyter.widget-view+json": {
       "model_id": "663bc6d82d1a4472aef0517e9000b8d0",
       "version_major": 2,
       "version_minor": 0
      },
      "text/plain": [
       "VBox(children=(Viewer(geometries=[], gradient_opacity=0.22, interpolation=False, point_sets=[], rendered_image…"
      ]
     },
     "metadata": {},
     "output_type": "display_data"
    }
   ],
   "source": [
    "islic = itk.slic_image_filter(b)\n",
    "viewer = view(image=islic, interpolation=False, ui_collapsed=True)\n",
    "\n",
    "def run_slic(iterations=10, spatial_proximity_weight=10., super_grid_size=50):\n",
    "    islic = itk.slic_image_filter(b,\n",
    "                                  maximum_number_of_iterations=iterations,\n",
    "                                  spatial_proximity_weight=spatial_proximity_weight,\n",
    "                                  super_grid_size=super_grid_size)\n",
    "    viewer.image = islic\n",
    "\n",
    "sliders = interactive(run_slic,\n",
    "                      iterations=(1, 20, 1),\n",
    "                      spatial_proximity_weight=(1.0, 40.0, 1.0),\n",
    "                      super_grid_size=(8, 80, 4),\n",
    "                      continuous_update=False)\n",
    "\n",
    "VBox([viewer, sliders])"
   ]
  },
  {
   "cell_type": "code",
   "execution_count": 8,
   "metadata": {},
   "outputs": [],
   "source": [
    "array = np.asarray(islic)"
   ]
  },
  {
   "cell_type": "code",
   "execution_count": 12,
   "metadata": {},
   "outputs": [],
   "source": [
    "min = np.min(array)\n",
    "\n",
    "max = np.max(array)\n",
    "\n",
    "mean = np.mean(array)"
   ]
  },
  {
   "cell_type": "code",
   "execution_count": null,
   "metadata": {},
   "outputs": [],
   "source": []
  }
 ],
 "metadata": {
  "kernelspec": {
   "display_name": "Python 3",
   "language": "python",
   "name": "python3"
  },
  "language_info": {
   "codemirror_mode": {
    "name": "ipython",
    "version": 3
   },
   "file_extension": ".py",
   "mimetype": "text/x-python",
   "name": "python",
   "nbconvert_exporter": "python",
   "pygments_lexer": "ipython3",
   "version": "3.7.7"
  },
  "toc": {
   "base_numbering": 1,
   "nav_menu": {},
   "number_sections": true,
   "sideBar": true,
   "skip_h1_title": false,
   "title_cell": "Table of Contents",
   "title_sidebar": "Contents",
   "toc_cell": false,
   "toc_position": {},
   "toc_section_display": true,
   "toc_window_display": false
  }
 },
 "nbformat": 4,
 "nbformat_minor": 2
}
